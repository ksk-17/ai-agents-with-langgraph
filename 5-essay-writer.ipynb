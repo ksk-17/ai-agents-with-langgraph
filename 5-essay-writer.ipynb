{
 "cells": [
  {
   "cell_type": "code",
   "execution_count": 1,
   "metadata": {},
   "outputs": [
    {
     "data": {
      "text/plain": [
       "True"
      ]
     },
     "execution_count": 1,
     "metadata": {},
     "output_type": "execute_result"
    }
   ],
   "source": [
    "from dotenv import load_dotenv\n",
    "\n",
    "load_dotenv()"
   ]
  },
  {
   "cell_type": "code",
   "execution_count": null,
   "metadata": {},
   "outputs": [],
   "source": [
    "from langgraph.graph import StateGraph, END\n",
    "from typing import TypedDict, List\n",
    "from langchain_core.messages import AnyMessage, SystemMessage, HumanMessage, ToolMessage\n",
    "from langchain_openai import ChatOpenAI\n",
    "from langgraph.checkpoint.memory import MemorySaver\n",
    "\n",
    "memory = MemorySaver()"
   ]
  },
  {
   "cell_type": "code",
   "execution_count": 19,
   "metadata": {},
   "outputs": [],
   "source": [
    "class AgentState(TypedDict):\n",
    "    task: str\n",
    "    plan: str\n",
    "    draft: str\n",
    "    critique: str\n",
    "    content: List[str]\n",
    "    revision_number: int\n",
    "    max_revisions: int\n"
   ]
  },
  {
   "cell_type": "code",
   "execution_count": 7,
   "metadata": {},
   "outputs": [],
   "source": [
    "import os\n",
    "\n",
    "# using groq api\n",
    "open_ai_key = os.getenv('OPEN_API_KEY')\n",
    "open_ai_base_url = \"https://api.groq.com/openai/v1\"\n",
    "model = ChatOpenAI(model = 'llama3-8b-8192', api_key=open_ai_key, base_url=open_ai_base_url)"
   ]
  },
  {
   "cell_type": "markdown",
   "metadata": {},
   "source": [
    "### Define the prompts"
   ]
  },
  {
   "cell_type": "code",
   "execution_count": 8,
   "metadata": {},
   "outputs": [],
   "source": [
    "PLAN_PROMPT = \"\"\"You are an expert writer tasked with writing a high level outline of an essay. \\\n",
    "Write such an outline for the user provided topic. Give an outline of the essay along with any relevant notes \\\n",
    "or instructions for the sections.\"\"\""
   ]
  },
  {
   "cell_type": "code",
   "execution_count": 9,
   "metadata": {},
   "outputs": [],
   "source": [
    "WRITER_PROMPT = \"\"\"You are an essay assistant tasked with writing excellent 5-paragraph essays.\\\n",
    "Generate the best essay possible for the user's request and the initial outline. \\\n",
    "If the user provides critique, respond with a revised version of your previous attempts. \\\n",
    "Utilize all the information below as needed: \n",
    "\n",
    "------\n",
    "\n",
    "{content}\"\"\""
   ]
  },
  {
   "cell_type": "code",
   "execution_count": 10,
   "metadata": {},
   "outputs": [],
   "source": [
    "REFLECTION_PROMPT = \"\"\"You are a teacher grading an essay submission. \\\n",
    "Generate critique and recommendations for the user's submission. \\\n",
    "Provide detailed recommendations, including requests for length, depth, style, etc.\"\"\""
   ]
  },
  {
   "cell_type": "code",
   "execution_count": 11,
   "metadata": {},
   "outputs": [],
   "source": [
    "RESEARCH_PLAN_PROMPT = \"\"\"You are a researcher charged with providing information that can \\\n",
    "be used when writing the following essay. Generate a list of search queries that will gather \\\n",
    "any relevant information. Only generate 3 queries max.\"\"\"\n"
   ]
  },
  {
   "cell_type": "code",
   "execution_count": null,
   "metadata": {},
   "outputs": [],
   "source": [
    "RESEARCH_CRITIQUE_PROMPT = \"\"\"You are a researcher charged with providing information that can \\\n",
    "be used when making any requested revisions (as outlined below). \\\n",
    "Generate a list of search queries that will gather any relevant information. Only generate 3 queries max.\"\"\"\n"
   ]
  },
  {
   "cell_type": "markdown",
   "metadata": {},
   "source": [
    "### defining all the nodes"
   ]
  },
  {
   "cell_type": "code",
   "execution_count": 13,
   "metadata": {},
   "outputs": [],
   "source": [
    "from langchain_core.pydantic_v1 import BaseModel\n",
    "\n",
    "class Queries(BaseModel):\n",
    "    queries: List[str]"
   ]
  },
  {
   "cell_type": "code",
   "execution_count": 16,
   "metadata": {},
   "outputs": [
    {
     "name": "stdout",
     "output_type": "stream",
     "text": [
      "Collecting tavily-python\n",
      "  Downloading tavily_python-0.5.1-py3-none-any.whl.metadata (91 kB)\n",
      "Requirement already satisfied: requests in c:\\users\\hp\\anaconda3\\envs\\py3.9\\lib\\site-packages (from tavily-python) (2.32.3)\n",
      "Requirement already satisfied: tiktoken>=0.5.1 in c:\\users\\hp\\anaconda3\\envs\\py3.9\\lib\\site-packages (from tavily-python) (0.9.0)\n",
      "Requirement already satisfied: httpx in c:\\users\\hp\\anaconda3\\envs\\py3.9\\lib\\site-packages (from tavily-python) (0.28.1)\n",
      "Requirement already satisfied: regex>=2022.1.18 in c:\\users\\hp\\anaconda3\\envs\\py3.9\\lib\\site-packages (from tiktoken>=0.5.1->tavily-python) (2024.11.6)\n",
      "Requirement already satisfied: charset-normalizer<4,>=2 in c:\\users\\hp\\anaconda3\\envs\\py3.9\\lib\\site-packages (from requests->tavily-python) (3.4.1)\n",
      "Requirement already satisfied: idna<4,>=2.5 in c:\\users\\hp\\anaconda3\\envs\\py3.9\\lib\\site-packages (from requests->tavily-python) (3.10)\n",
      "Requirement already satisfied: urllib3<3,>=1.21.1 in c:\\users\\hp\\anaconda3\\envs\\py3.9\\lib\\site-packages (from requests->tavily-python) (2.3.0)\n",
      "Requirement already satisfied: certifi>=2017.4.17 in c:\\users\\hp\\anaconda3\\envs\\py3.9\\lib\\site-packages (from requests->tavily-python) (2025.1.31)\n",
      "Requirement already satisfied: anyio in c:\\users\\hp\\anaconda3\\envs\\py3.9\\lib\\site-packages (from httpx->tavily-python) (4.9.0)\n",
      "Requirement already satisfied: httpcore==1.* in c:\\users\\hp\\anaconda3\\envs\\py3.9\\lib\\site-packages (from httpx->tavily-python) (1.0.7)\n",
      "Requirement already satisfied: h11<0.15,>=0.13 in c:\\users\\hp\\anaconda3\\envs\\py3.9\\lib\\site-packages (from httpcore==1.*->httpx->tavily-python) (0.14.0)\n",
      "Requirement already satisfied: exceptiongroup>=1.0.2 in c:\\users\\hp\\anaconda3\\envs\\py3.9\\lib\\site-packages (from anyio->httpx->tavily-python) (1.2.2)\n",
      "Requirement already satisfied: sniffio>=1.1 in c:\\users\\hp\\anaconda3\\envs\\py3.9\\lib\\site-packages (from anyio->httpx->tavily-python) (1.3.1)\n",
      "Requirement already satisfied: typing_extensions>=4.5 in c:\\users\\hp\\anaconda3\\envs\\py3.9\\lib\\site-packages (from anyio->httpx->tavily-python) (4.12.2)\n",
      "Downloading tavily_python-0.5.1-py3-none-any.whl (43 kB)\n",
      "Installing collected packages: tavily-python\n",
      "Successfully installed tavily-python-0.5.1\n",
      "Note: you may need to restart the kernel to use updated packages.\n"
     ]
    }
   ],
   "source": [
    "%pip install tavily-python"
   ]
  },
  {
   "cell_type": "code",
   "execution_count": 18,
   "metadata": {},
   "outputs": [],
   "source": [
    "from tavily import TavilyClient\n",
    "import os\n",
    "\n",
    "tavily = TavilyClient(api_key = os.environ[\"TAVILY_API_KEY\"])"
   ]
  },
  {
   "cell_type": "code",
   "execution_count": 20,
   "metadata": {},
   "outputs": [],
   "source": [
    "def plan_node(state: AgentState):\n",
    "    messages = [\n",
    "        SystemMessage(content=PLAN_PROMPT),\n",
    "        HumanMessage(content=state['task'])\n",
    "    ]\n",
    "    response = model.invoke(messages)\n",
    "    return {\"plan\": response.content}"
   ]
  },
  {
   "cell_type": "code",
   "execution_count": 50,
   "metadata": {},
   "outputs": [],
   "source": [
    "def research_plan_node(state: AgentState):\n",
    "    queries = model.with_structured_output(Queries).invoke([\n",
    "        SystemMessage(content=RESEARCH_PLAN_PROMPT),\n",
    "        HumanMessage(content=state['task'])\n",
    "    ])\n",
    "    content = state.get(\"content\", [])\n",
    "    for q in queries.queries:\n",
    "        response = tavily.search(query=q, max_results=2)\n",
    "        for r in response[\"results\"]:\n",
    "            content.append(r['content'])\n",
    "    return {'content': content}"
   ]
  },
  {
   "cell_type": "code",
   "execution_count": 51,
   "metadata": {},
   "outputs": [],
   "source": [
    "def generation_node(state: AgentState):\n",
    "    content = \"\\n\\n\".join(state['content'] or [])\n",
    "    user_message = HumanMessage(\n",
    "        content = f\"{state['task']}\\n\\nHere is my plan: \\n\\n{state['plan']}\"\n",
    "    )\n",
    "    messages = [\n",
    "        SystemMessage(\n",
    "            content=WRITER_PROMPT.format(content=content)\n",
    "        ),\n",
    "        user_message\n",
    "    ]\n",
    "    response = model.invoke(messages)\n",
    "    return {\n",
    "        \"draft\": response.content, \n",
    "        \"revision_number\": state.get(\"revision_number\", 1) + 1\n",
    "    }"
   ]
  },
  {
   "cell_type": "code",
   "execution_count": 24,
   "metadata": {},
   "outputs": [],
   "source": [
    "def reflection_node(state: AgentState):\n",
    "    messages = [\n",
    "        SystemMessage(content=REFLECTION_PROMPT),\n",
    "        HumanMessage(content=state['draft'])\n",
    "    ]\n",
    "    response = model.invoke(messages)\n",
    "    return {\"critique\": response.content}"
   ]
  },
  {
   "cell_type": "code",
   "execution_count": null,
   "metadata": {},
   "outputs": [],
   "source": [
    "def research_critique_node(state: AgentState):\n",
    "    queries = model.with_structured_output(Queries).invoke([\n",
    "        SystemMessage(content=RESEARCH_CRITIQUE_PROMPT),\n",
    "        HumanMessage(content=state['critique'])\n",
    "    ])\n",
    "    content = state.get(\"content\", [])\n",
    "    for q in queries.queries:\n",
    "        response = tavily.search(query=q, max_results=2)\n",
    "        for r in response[\"results\"]:\n",
    "            content.append(r['content'])\n",
    "    return {'content': content}"
   ]
  },
  {
   "cell_type": "code",
   "execution_count": 26,
   "metadata": {},
   "outputs": [],
   "source": [
    "def should_continue(state):\n",
    "    if state[\"revision_number\"] > state[\"max_revisions\"]:\n",
    "        return END\n",
    "    return \"reflect\""
   ]
  },
  {
   "cell_type": "markdown",
   "metadata": {},
   "source": [
    "### Putting all together"
   ]
  },
  {
   "cell_type": "code",
   "execution_count": 52,
   "metadata": {},
   "outputs": [],
   "source": [
    "builder = StateGraph(AgentState)"
   ]
  },
  {
   "cell_type": "code",
   "execution_count": 53,
   "metadata": {},
   "outputs": [
    {
     "data": {
      "text/plain": [
       "<langgraph.graph.state.StateGraph at 0x1de189e9610>"
      ]
     },
     "execution_count": 53,
     "metadata": {},
     "output_type": "execute_result"
    }
   ],
   "source": [
    "builder.add_node(\"planner\", plan_node)\n",
    "builder.add_node(\"generate\", generation_node)\n",
    "builder.add_node(\"reflect\", reflection_node)\n",
    "builder.add_node(\"research_plan\", research_plan_node)\n",
    "builder.add_node(\"research_critique\", research_critique_node)"
   ]
  },
  {
   "cell_type": "code",
   "execution_count": 54,
   "metadata": {},
   "outputs": [
    {
     "data": {
      "text/plain": [
       "<langgraph.graph.state.StateGraph at 0x1de189e9610>"
      ]
     },
     "execution_count": 54,
     "metadata": {},
     "output_type": "execute_result"
    }
   ],
   "source": [
    "builder.set_entry_point(\"planner\")"
   ]
  },
  {
   "cell_type": "code",
   "execution_count": 55,
   "metadata": {},
   "outputs": [
    {
     "data": {
      "text/plain": [
       "<langgraph.graph.state.StateGraph at 0x1de189e9610>"
      ]
     },
     "execution_count": 55,
     "metadata": {},
     "output_type": "execute_result"
    }
   ],
   "source": [
    "builder.add_conditional_edges(\n",
    "    \"generate\",\n",
    "    should_continue,\n",
    "    {END: END, \"reflect\": \"reflect\"}\n",
    ")"
   ]
  },
  {
   "cell_type": "code",
   "execution_count": 56,
   "metadata": {},
   "outputs": [
    {
     "data": {
      "text/plain": [
       "<langgraph.graph.state.StateGraph at 0x1de189e9610>"
      ]
     },
     "execution_count": 56,
     "metadata": {},
     "output_type": "execute_result"
    }
   ],
   "source": [
    "builder.add_edge(\"planner\", \"research_plan\")\n",
    "builder.add_edge(\"research_plan\", \"generate\")\n",
    "\n",
    "builder.add_edge(\"reflect\", \"research_critique\")\n",
    "builder.add_edge(\"research_critique\", \"generate\")"
   ]
  },
  {
   "cell_type": "code",
   "execution_count": 61,
   "metadata": {},
   "outputs": [],
   "source": [
    "graph =  builder.compile(checkpointer=memory)"
   ]
  },
  {
   "cell_type": "markdown",
   "metadata": {},
   "source": [
    "### Visualize the graph"
   ]
  },
  {
   "cell_type": "code",
   "execution_count": null,
   "metadata": {},
   "outputs": [
    {
     "data": {
      "image/png": "[encoded data removed]",
      "text/plain": [
       "<IPython.core.display.Image object>"
      ]
     },
     "execution_count": 34,
     "metadata": {},
     "output_type": "execute_result"
    }
   ],
   "source": [
    "# visualize the agent\n",
    "from IPython.display import Image\n",
    "\n",
    "Image(graph.get_graph().draw_png())"
   ]
  },
  {
   "cell_type": "markdown",
   "metadata": {},
   "source": [
    "### running our agent"
   ]
  },
  {
   "cell_type": "code",
   "execution_count": 62,
   "metadata": {},
   "outputs": [
    {
     "name": "stdout",
     "output_type": "stream",
     "text": [
      "{'planner': {'plan': 'Here is a suggested outline for an essay on the differences between LangChain and Langsmith:\\n\\nI. Introduction\\n\\n* Briefly introduce the topic and provide context on the rise of AI-powered language generation tools\\n* Thesis statement: LangChain and LangSmith are two AI-powered language generation platforms that share some similarities, but have distinct differences in their approaches, strengths, and applications.\\n\\nII. Background on LangChain and LangSmith\\n\\n* Provide a brief overview of each platform, including their core technologies, features, and use cases\\n* LangChain notes:\\n\\t+ Focus on generating coherent and logical text based on input prompts\\n\\t+ Use a combination of natural language processing and machine learning algorithms\\n\\t+ Strengths: good at generating logical and coherent text, helpful for tasks that require reasoning and deduction\\n\\t+ Weaknesses: may struggle with creative writing or tasks that require emotional expression\\n\\nLangSmith notes:\\n\\t+ Focus on generating creative and engaging text based on input prompts\\n\\t+ Use a combination of natural language processing, machine learning, and generative adversarial networks (GANs)\\n\\t+ Strengths: good at generating creative and engaging text, helpful for tasks that require imagination and flair\\n\\t+ Weaknesses: may struggle with logical reasoning or tasks that require strict adherence to facts\\n\\nIII. Key Differences Between LangChain and LangSmith\\n\\n* Compare and contrast the two platforms in terms of their approaches, strengths, and weaknesses\\n* Discuss how each platform is better suited for different types of tasks and applications\\n* Examples:\\n\\t+ LangChain might be better for generating technical writing, such as technical documentation or news articles, due to its focus on logical reasoning and coherence\\n\\t+ LangSmith might be better for generating creative writing, such as fiction or blog posts, due to its focus on creativity and engaging text\\n\\nIV. Conclusion\\n\\n* Summarize the main differences between LangChain and LangSmith\\n* Reiterate the thesis statement and provide final thoughts on the implications of these differences for users and developers\\n* Suggestions for future research or development directions\\n\\nNote:\\n\\n* The outline is just a starting point, and you may choose to organize your essay differently or include additional sections.\\n* Be sure to provide specific examples and evidence to support your claims and arguments.\\n* The notes and instructions are meant to be a starting point, and you should adjust them to fit your own writing style and the requirements of the assignment.'}}\n"
     ]
    },
    {
     "name": "stderr",
     "output_type": "stream",
     "text": [
      "c:\\Users\\hp\\anaconda3\\envs\\py3.9\\lib\\site-packages\\langchain_openai\\chat_models\\base.py:1534: UserWarning: Received a Pydantic BaseModel V1 schema. This is not supported by method=\"json_schema\". Please use method=\"function_calling\" or specify schema via JSON Schema or Pydantic V2 BaseModel. Overriding to method=\"function_calling\".\n",
      "  warnings.warn(\n"
     ]
    },
    {
     "name": "stdout",
     "output_type": "stream",
     "text": [
      "{'research_plan': {'content': ['Here’s the deal: LangChain is like building the entire car, while LangSmith is your diagnostic tool to ensure that car runs smoothly. When it comes to practical application, I always say: “Show, don’t tell.” I’ve used both LangChain and LangSmith extensively, and I’ve found that they complement each other beautifully when you’re building and fine-tuning LLM-based workflows. Having spent countless hours building and debugging LLM-based systems, I’ve learned that using LangChain and LangSmith effectively requires a few smart strategies. I often use LangChain to build my pipelines and LangSmith to monitor and debug them. Start with LangChain to build your pipeline, and then bring in LangSmith to ensure it performs as expected.', 'LangChain is an open-source framework designed to streamline the development of applications leveraging language models. It offers modular components to connect various tasks, enabling a seamless']}}\n",
      "{'generate': {'draft': \"Based on the provided outline, here is a draft essay on the differences between LangChain and LangSmith:\\n\\nLangChain and LangSmith are two AI-powered language generation platforms that have gained significant attention in recent years. While both platforms share some similarities, they have distinct differences in their approaches, strengths, and applications. This essay aims to explore these differences and highlight the unique characteristics of each platform.\\n\\nLangChain is an open-source framework designed to streamline the development of applications leveraging language models. Its focus is on generating coherent and logical text based on input prompts, using a combination of natural language processing and machine learning algorithms. LangChain's strengths lie in its ability to generate logical and coherent text, making it an excellent choice for tasks that require reasoning and deduction. However, it may struggle with creative writing or tasks that require emotional expression.\\n\\nOn the other hand, LangSmith is a diagnostic tool designed to ensure that AI-generated text runs smoothly. It uses a combination of natural language processing, machine learning, and generative adversarial networks (GANs) to generate creative and engaging text based on input prompts. LangSmith's strengths lie in its ability to generate creative and engaging text, making it an excellent choice for tasks that require imagination and flair. However, it may struggle with logical reasoning or tasks that require strict adherence to facts.\\n\\nOne of the primary differences between LangChain and LangSmith is their approach to language generation. LangChain focuses on generating logical and coherent text, while LangSmith focuses on generating creative and engaging text. This difference in approach has significant implications for the types of tasks and applications each platform is suited for. LangChain is better suited for generating technical writing, such as technical documentation or news articles, due to its focus on logical reasoning and coherence. LangSmith, on the other hand, is better suited for generating creative writing, such as fiction or blog posts, due to its focus on creativity and engaging text.\\n\\nIn conclusion, LangChain and LangSmith are two distinct AI-powered language generation platforms with unique strengths and weaknesses. While LangChain excels at generating logical and coherent text, LangSmith excels at generating creative and engaging text. Understanding the differences between these platforms is crucial for developers and users seeking to leverage AI-generated text in their applications. Future research and development directions could focus on integrating the strengths of both platforms to create more comprehensive language generation tools.\\n\\nPlease provide feedback and suggestions to help me revise the essay further!\", 'revision_number': 2}}\n",
      "{'reflect': {'critique': \"Overall, your essay provides a good introduction to the topic and highlights the main differences between LangChain and LangSmith. However, there are a few areas where you can improve to make your essay more effective. Here are some suggestions:\\n\\n1. Length: The essay is a bit short, and you could expand on the ideas you present. Consider adding more examples or anecdotes to illustrate the strengths and weaknesses of each platform. Aim for a minimum of 5-6 paragraphs.\\n2. Depth: While you provide a good overview of the differences between LangChain and LangSmith, you could delve deeper into the technical aspects of each platform. For example, you could explain how LangChain's combination of natural language processing and machine learning algorithms enables it to generate logical and coherent text.\\n3. Style: Your writing is clear and concise, but you could work on making it more engaging. Consider using transitional phrases to connect your ideas and make the essay flow better. You could also use more vivid language to describe the platforms and their applications.\\n4. Applications: While you highlight the types of tasks each platform is suited for, you could provide more specific examples of actual applications. For instance, you could describe how LangChain might be used to generate technical documentation for a software company, or how LangSmith might be used to create engaging blog posts for a marketing firm.\\n\\nHere are some specific suggestions for revising your essay:\\n\\n1. In your introduction, consider providing a more detailed explanation of why LangChain and LangSmith are important. For example, you could explain how AI-generated text has become increasingly prevalent in various industries and how understanding the differences between these platforms can help developers and users make informed decisions.\\n2. In your discussion of LangChain's strengths, consider providing more examples of how it excels at generating logical and coherent text. For instance, you could describe how it might be used to generate technical writing, such as user manuals or instructional guides.\\n3. In your discussion of LangSmith's strengths, consider providing more examples of how it excels at generating creative and engaging text. For instance, you could describe how it might be used to create engaging social media posts or promotional copy.\\n4. In your conclusion, consider summarizing the main differences between the two platforms and highlighting the implications for developers and users. You could also suggest future research directions and potential areas for collaboration between the two platforms.\\n\\nFinally, consider adding more references or citations to support your arguments and provide evidence for the claims you make. This will help to strengthen your essay and demonstrate your understanding of the topic.\"}}\n"
     ]
    },
    {
     "name": "stderr",
     "output_type": "stream",
     "text": [
      "c:\\Users\\hp\\anaconda3\\envs\\py3.9\\lib\\site-packages\\langchain_openai\\chat_models\\base.py:1534: UserWarning: Received a Pydantic BaseModel V1 schema. This is not supported by method=\"json_schema\". Please use method=\"function_calling\" or specify schema via JSON Schema or Pydantic V2 BaseModel. Overriding to method=\"function_calling\".\n",
      "  warnings.warn(\n"
     ]
    },
    {
     "name": "stdout",
     "output_type": "stream",
     "text": [
      "{'research_critique': {'content': ['Here’s the deal: LangChain is like building the entire car, while LangSmith is your diagnostic tool to ensure that car runs smoothly. When it comes to practical application, I always say: “Show, don’t tell.” I’ve used both LangChain and LangSmith extensively, and I’ve found that they complement each other beautifully when you’re building and fine-tuning LLM-based workflows. Having spent countless hours building and debugging LLM-based systems, I’ve learned that using LangChain and LangSmith effectively requires a few smart strategies. I often use LangChain to build my pipelines and LangSmith to monitor and debug them. Start with LangChain to build your pipeline, and then bring in LangSmith to ensure it performs as expected.', 'LangChain is an open-source framework designed to streamline the development of applications leveraging language models. It offers modular components to connect various tasks, enabling a seamless', 'Technical documentation software helps you create and manage documents that explain how to use a product or service. A technical document might be a user manual, application programming interface, knowledge base, or wiki. Various industries use technical documentation software, including software developers, hardware companies, and information', 'Applications: Develop user manuals, technical documentation, API references, and product knowledge bases while facilitating internal guide creation, ensuring comprehensive and accessible information repositories. For public-facing documentation, explore other tools specifically designed for customer-facing knowledge bases with richer formatting and user experience features. ClickHelp is an online documentation tool designed to help you create and publish user manuals, guides, and knowledge bases easily. MarkdownPad is a strong contender for creating and managing software and technical documentation, especially for individual users or small teams prioritizing a user-friendly Markdown experience with live preview and basic formatting needs. Process documentation tools focus on capturing and illustrating business workflows and procedures, while software documentation tools are geared towards documenting technical aspects of software development projects such as code, requirements, and user manuals.', 'In the digital world, content is king, and blog posts are one of the most powerful tools for engaging audiences, building brand authority, and driving conversions. Key Elements of an Engaging Blog Post: Compelling Headlines: Grab attention with concise, curiosity-driven titles. Interactive Content: Use quizzes, polls, and engaging visuals. Strong Calls to Action (CTA): Guide readers toward', \"Consumers/fans who pursue blog content are looking to move beyond a marketing message and really understand the title subject matter. The power of a blog is diminished, no matter how great the content is, without a good UX and design. Ensure you're turning your long-form blog content into more snackable, visual content that is social media friendly to share across channels and drive traffic to your blog. Everything from engaging infographics to visual pull quotes can help not only drive traffic but extend the life of your blog content. Write blog posts that inform on topics that interest your target audience or educate them on solutions to their problems. Having a good pipeline of content ideas and topics helps churn out timely and frequent blog pieces.\", 'StudyFetch is an AI-powered learning platform designed to help students succeed. Our Essay Structure Analyzer is just one of many innovative tools that streamline the writing process. With StudyFetch, you can generate notes, flashcards, and quizzes from course materials, get instant feedback on essays, and access a 24/7 AI tutor.', \"Eliminate Errors with a Free Essay Checker and Corrector. Even the best writers tend to make mistakes. While a simple proofread might eliminate many issues, a neutral tool to analyze hidden errors remains essential to any writing effort. PaperRater's free online essay checker and grader provides instant feedback with pointed expertise.\"]}}\n",
      "{'generate': {'draft': \"Here is a 5-paragraph essay based on the provided outline:\\n\\nUnlike other AI-powered language generation tools, LangChain and LangSmith differentiate themselves through their approaches, strengths, and applications. LangChain is a more logical and coherent platform, utilizing natural language processing and machine learning algorithms to generate text based on input prompts. Its strengths lie in tasks that require reasoning and deduction, making it an excellent tool for generating technical writing, such as technical documentation or news articles. However, LangChain may struggle with creative writing or tasks that demand emotional expression.\\n\\nOn the other hand, LangSmith focuses on generating creative and engaging text, combining natural language processing, machine learning, and generative adversarial networks (GANs). Its strengths are evident in tasks that require imagination and flair, such as fiction or blog posts. LangSmith is better suited for generating content that needs to capture attention and inspire emotions, although it may struggle with logical reasoning or tasks that require strict adherence to facts.\\n\\nOne of the key differences between LangChain and LangSmith is their approach to generating text. LangChain prioritizes coherence and logic, while LangSmith prioritizes creativity and engagement. This distinction is crucial when selecting the appropriate platform for a specific task. For instance, LangChain might be more suitable for generating technical writing, as its focus on logical reasoning ensures accuracy and clarity. In contrast, LangSmith would be a better fit for generating creative writing, where its emphasis on creativity and engagement can bring the content to life.\\n\\nAdditionally, LangChain and LangSmith have different strengths and weaknesses, which affect their suitability for various applications. LangChain excels in generating logical and coherent text, whereas LangSmith shines in generating creative and engaging content. This disparity is essential to consider when developing LLM-based workflows, as each platform brings unique capabilities to the table. By understanding the strengths and weaknesses of each platform, developers can create more effective and efficient workflows that cater to specific needs.\\n\\nIn conclusion, LangChain and LangSmith are two distinct AI-powered language generation platforms that cater to different needs and applications. LangChain's focus on logical reasoning and coherence makes it an excellent tool for generating technical writing, while LangSmith's emphasis on creativity and engagement makes it better suited for generating creative writing. By recognizing these differences, users and developers can harness the unique strengths of each platform to create more effective and engaging content.\", 'revision_number': 3}}\n"
     ]
    }
   ],
   "source": [
    "thread = {\"configurable\": {\"thread_id\": \"1\"}}\n",
    "for s in graph.stream({\n",
    "    'task': \"what is the difference between langchain and langsmith\",\n",
    "    \"max_revisions\": 2,\n",
    "    \"revision_number\": 1\n",
    "}, thread):\n",
    "    print(s)"
   ]
  },
  {
   "cell_type": "code",
   "execution_count": 63,
   "metadata": {},
   "outputs": [],
   "source": [
    "# final output\n",
    "current_state = graph.get_state(thread)"
   ]
  },
  {
   "cell_type": "code",
   "execution_count": 69,
   "metadata": {},
   "outputs": [
    {
     "name": "stdout",
     "output_type": "stream",
     "text": [
      "what is the difference between langchain and langsmith\n",
      "\n",
      "Here is a 5-paragraph essay based on the provided outline:\n",
      "\n",
      "Unlike other AI-powered language generation tools, LangChain and LangSmith differentiate themselves through their approaches, strengths, and applications. LangChain is a more logical and coherent platform, utilizing natural language processing and machine learning algorithms to generate text based on input prompts. Its strengths lie in tasks that require reasoning and deduction, making it an excellent tool for generating technical writing, such as technical documentation or news articles. However, LangChain may struggle with creative writing or tasks that demand emotional expression.\n",
      "\n",
      "On the other hand, LangSmith focuses on generating creative and engaging text, combining natural language processing, machine learning, and generative adversarial networks (GANs). Its strengths are evident in tasks that require imagination and flair, such as fiction or blog posts. LangSmith is better suited for generating content that needs to capture attention and inspire emotions, although it may struggle with logical reasoning or tasks that require strict adherence to facts.\n",
      "\n",
      "One of the key differences between LangChain and LangSmith is their approach to generating text. LangChain prioritizes coherence and logic, while LangSmith prioritizes creativity and engagement. This distinction is crucial when selecting the appropriate platform for a specific task. For instance, LangChain might be more suitable for generating technical writing, as its focus on logical reasoning ensures accuracy and clarity. In contrast, LangSmith would be a better fit for generating creative writing, where its emphasis on creativity and engagement can bring the content to life.\n",
      "\n",
      "Additionally, LangChain and LangSmith have different strengths and weaknesses, which affect their suitability for various applications. LangChain excels in generating logical and coherent text, whereas LangSmith shines in generating creative and engaging content. This disparity is essential to consider when developing LLM-based workflows, as each platform brings unique capabilities to the table. By understanding the strengths and weaknesses of each platform, developers can create more effective and efficient workflows that cater to specific needs.\n",
      "\n",
      "In conclusion, LangChain and LangSmith are two distinct AI-powered language generation platforms that cater to different needs and applications. LangChain's focus on logical reasoning and coherence makes it an excellent tool for generating technical writing, while LangSmith's emphasis on creativity and engagement makes it better suited for generating creative writing. By recognizing these differences, users and developers can harness the unique strengths of each platform to create more effective and engaging content.\n"
     ]
    }
   ],
   "source": [
    "print(current_state.values['task'])\n",
    "print()\n",
    "print(current_state.values['draft'])"
   ]
  }
 ],
 "metadata": {
  "kernelspec": {
   "display_name": "py3.9",
   "language": "python",
   "name": "python3"
  },
  "language_info": {
   "codemirror_mode": {
    "name": "ipython",
    "version": 3
   },
   "file_extension": ".py",
   "mimetype": "text/x-python",
   "name": "python",
   "nbconvert_exporter": "python",
   "pygments_lexer": "ipython3",
   "version": "3.9.21"
  }
 },
 "nbformat": 4,
 "nbformat_minor": 2
}
