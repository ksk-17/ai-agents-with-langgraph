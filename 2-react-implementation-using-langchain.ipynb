{
 "cells": [
  {
   "cell_type": "markdown",
   "metadata": {},
   "source": [
    "## Lesson 2: Langgraph Components"
   ]
  },
  {
   "cell_type": "code",
   "execution_count": 1,
   "metadata": {},
   "outputs": [
    {
     "name": "stdout",
     "output_type": "stream",
     "text": [
      "Requirement already satisfied: dotenv in c:\\users\\hp\\anaconda3\\envs\\py3.9\\lib\\site-packages (0.9.9)\n",
      "Requirement already satisfied: langchain-core in c:\\users\\hp\\anaconda3\\envs\\py3.9\\lib\\site-packages (0.3.45)\n",
      "Requirement already satisfied: langchain_openai in c:\\users\\hp\\anaconda3\\envs\\py3.9\\lib\\site-packages (0.3.9)\n",
      "Requirement already satisfied: langchain_community in c:\\users\\hp\\anaconda3\\envs\\py3.9\\lib\\site-packages (0.3.19)\n",
      "Requirement already satisfied: langgraph in c:\\users\\hp\\anaconda3\\envs\\py3.9\\lib\\site-packages (0.3.11)\n",
      "Requirement already satisfied: pygraphviz in c:\\users\\hp\\anaconda3\\envs\\py3.9\\lib\\site-packages (1.10)\n",
      "Requirement already satisfied: python-dotenv in c:\\users\\hp\\anaconda3\\envs\\py3.9\\lib\\site-packages (from dotenv) (1.0.1)\n",
      "Requirement already satisfied: langsmith<0.4,>=0.1.125 in c:\\users\\hp\\anaconda3\\envs\\py3.9\\lib\\site-packages (from langchain-core) (0.3.15)\n",
      "Requirement already satisfied: tenacity!=8.4.0,<10.0.0,>=8.1.0 in c:\\users\\hp\\anaconda3\\envs\\py3.9\\lib\\site-packages (from langchain-core) (9.0.0)\n",
      "Requirement already satisfied: jsonpatch<2.0,>=1.33 in c:\\users\\hp\\anaconda3\\envs\\py3.9\\lib\\site-packages (from langchain-core) (1.33)\n",
      "Requirement already satisfied: PyYAML>=5.3 in c:\\users\\hp\\anaconda3\\envs\\py3.9\\lib\\site-packages (from langchain-core) (6.0.2)\n",
      "Requirement already satisfied: packaging<25,>=23.2 in c:\\users\\hp\\anaconda3\\envs\\py3.9\\lib\\site-packages (from langchain-core) (24.2)\n",
      "Requirement already satisfied: typing-extensions>=4.7 in c:\\users\\hp\\anaconda3\\envs\\py3.9\\lib\\site-packages (from langchain-core) (4.12.2)\n",
      "Requirement already satisfied: pydantic<3.0.0,>=2.5.2 in c:\\users\\hp\\anaconda3\\envs\\py3.9\\lib\\site-packages (from langchain-core) (2.10.6)\n",
      "Requirement already satisfied: openai<2.0.0,>=1.66.3 in c:\\users\\hp\\anaconda3\\envs\\py3.9\\lib\\site-packages (from langchain_openai) (1.66.3)\n",
      "Requirement already satisfied: tiktoken<1,>=0.7 in c:\\users\\hp\\anaconda3\\envs\\py3.9\\lib\\site-packages (from langchain_openai) (0.9.0)\n",
      "Requirement already satisfied: langchain<1.0.0,>=0.3.20 in c:\\users\\hp\\anaconda3\\envs\\py3.9\\lib\\site-packages (from langchain_community) (0.3.20)\n",
      "Requirement already satisfied: SQLAlchemy<3,>=1.4 in c:\\users\\hp\\anaconda3\\envs\\py3.9\\lib\\site-packages (from langchain_community) (2.0.39)\n",
      "Requirement already satisfied: requests<3,>=2 in c:\\users\\hp\\anaconda3\\envs\\py3.9\\lib\\site-packages (from langchain_community) (2.32.3)\n",
      "Requirement already satisfied: aiohttp<4.0.0,>=3.8.3 in c:\\users\\hp\\anaconda3\\envs\\py3.9\\lib\\site-packages (from langchain_community) (3.11.14)\n",
      "Requirement already satisfied: dataclasses-json<0.7,>=0.5.7 in c:\\users\\hp\\anaconda3\\envs\\py3.9\\lib\\site-packages (from langchain_community) (0.6.7)\n",
      "Requirement already satisfied: pydantic-settings<3.0.0,>=2.4.0 in c:\\users\\hp\\anaconda3\\envs\\py3.9\\lib\\site-packages (from langchain_community) (2.8.1)\n",
      "Requirement already satisfied: httpx-sse<1.0.0,>=0.4.0 in c:\\users\\hp\\anaconda3\\envs\\py3.9\\lib\\site-packages (from langchain_community) (0.4.0)\n",
      "Requirement already satisfied: numpy<3,>=1.26.2 in c:\\users\\hp\\anaconda3\\envs\\py3.9\\lib\\site-packages (from langchain_community) (2.0.2)\n",
      "Requirement already satisfied: langgraph-checkpoint<3.0.0,>=2.0.10 in c:\\users\\hp\\anaconda3\\envs\\py3.9\\lib\\site-packages (from langgraph) (2.0.21)\n",
      "Requirement already satisfied: langgraph-prebuilt<0.2,>=0.1.1 in c:\\users\\hp\\anaconda3\\envs\\py3.9\\lib\\site-packages (from langgraph) (0.1.3)\n",
      "Requirement already satisfied: langgraph-sdk<0.2.0,>=0.1.42 in c:\\users\\hp\\anaconda3\\envs\\py3.9\\lib\\site-packages (from langgraph) (0.1.57)\n",
      "Requirement already satisfied: aiohappyeyeballs>=2.3.0 in c:\\users\\hp\\anaconda3\\envs\\py3.9\\lib\\site-packages (from aiohttp<4.0.0,>=3.8.3->langchain_community) (2.6.1)\n",
      "Requirement already satisfied: aiosignal>=1.1.2 in c:\\users\\hp\\anaconda3\\envs\\py3.9\\lib\\site-packages (from aiohttp<4.0.0,>=3.8.3->langchain_community) (1.3.2)\n",
      "Requirement already satisfied: async-timeout<6.0,>=4.0 in c:\\users\\hp\\anaconda3\\envs\\py3.9\\lib\\site-packages (from aiohttp<4.0.0,>=3.8.3->langchain_community) (4.0.3)\n",
      "Requirement already satisfied: attrs>=17.3.0 in c:\\users\\hp\\anaconda3\\envs\\py3.9\\lib\\site-packages (from aiohttp<4.0.0,>=3.8.3->langchain_community) (25.3.0)\n",
      "Requirement already satisfied: frozenlist>=1.1.1 in c:\\users\\hp\\anaconda3\\envs\\py3.9\\lib\\site-packages (from aiohttp<4.0.0,>=3.8.3->langchain_community) (1.5.0)\n",
      "Requirement already satisfied: multidict<7.0,>=4.5 in c:\\users\\hp\\anaconda3\\envs\\py3.9\\lib\\site-packages (from aiohttp<4.0.0,>=3.8.3->langchain_community) (6.2.0)\n",
      "Requirement already satisfied: propcache>=0.2.0 in c:\\users\\hp\\anaconda3\\envs\\py3.9\\lib\\site-packages (from aiohttp<4.0.0,>=3.8.3->langchain_community) (0.3.0)\n",
      "Requirement already satisfied: yarl<2.0,>=1.17.0 in c:\\users\\hp\\anaconda3\\envs\\py3.9\\lib\\site-packages (from aiohttp<4.0.0,>=3.8.3->langchain_community) (1.18.3)\n",
      "Requirement already satisfied: marshmallow<4.0.0,>=3.18.0 in c:\\users\\hp\\anaconda3\\envs\\py3.9\\lib\\site-packages (from dataclasses-json<0.7,>=0.5.7->langchain_community) (3.26.1)\n",
      "Requirement already satisfied: typing-inspect<1,>=0.4.0 in c:\\users\\hp\\anaconda3\\envs\\py3.9\\lib\\site-packages (from dataclasses-json<0.7,>=0.5.7->langchain_community) (0.9.0)\n",
      "Requirement already satisfied: jsonpointer>=1.9 in c:\\users\\hp\\anaconda3\\envs\\py3.9\\lib\\site-packages (from jsonpatch<2.0,>=1.33->langchain-core) (3.0.0)\n",
      "Requirement already satisfied: langchain-text-splitters<1.0.0,>=0.3.6 in c:\\users\\hp\\anaconda3\\envs\\py3.9\\lib\\site-packages (from langchain<1.0.0,>=0.3.20->langchain_community) (0.3.6)\n",
      "Requirement already satisfied: msgpack<2.0.0,>=1.1.0 in c:\\users\\hp\\anaconda3\\envs\\py3.9\\lib\\site-packages (from langgraph-checkpoint<3.0.0,>=2.0.10->langgraph) (1.1.0)\n",
      "Requirement already satisfied: httpx>=0.25.2 in c:\\users\\hp\\anaconda3\\envs\\py3.9\\lib\\site-packages (from langgraph-sdk<0.2.0,>=0.1.42->langgraph) (0.28.1)\n",
      "Requirement already satisfied: orjson>=3.10.1 in c:\\users\\hp\\anaconda3\\envs\\py3.9\\lib\\site-packages (from langgraph-sdk<0.2.0,>=0.1.42->langgraph) (3.10.15)\n",
      "Requirement already satisfied: requests-toolbelt<2.0.0,>=1.0.0 in c:\\users\\hp\\anaconda3\\envs\\py3.9\\lib\\site-packages (from langsmith<0.4,>=0.1.125->langchain-core) (1.0.0)\n",
      "Requirement already satisfied: zstandard<0.24.0,>=0.23.0 in c:\\users\\hp\\anaconda3\\envs\\py3.9\\lib\\site-packages (from langsmith<0.4,>=0.1.125->langchain-core) (0.23.0)\n",
      "Requirement already satisfied: anyio<5,>=3.5.0 in c:\\users\\hp\\anaconda3\\envs\\py3.9\\lib\\site-packages (from openai<2.0.0,>=1.66.3->langchain_openai) (4.9.0)\n",
      "Requirement already satisfied: distro<2,>=1.7.0 in c:\\users\\hp\\anaconda3\\envs\\py3.9\\lib\\site-packages (from openai<2.0.0,>=1.66.3->langchain_openai) (1.9.0)\n",
      "Requirement already satisfied: jiter<1,>=0.4.0 in c:\\users\\hp\\anaconda3\\envs\\py3.9\\lib\\site-packages (from openai<2.0.0,>=1.66.3->langchain_openai) (0.9.0)\n",
      "Requirement already satisfied: sniffio in c:\\users\\hp\\anaconda3\\envs\\py3.9\\lib\\site-packages (from openai<2.0.0,>=1.66.3->langchain_openai) (1.3.1)\n",
      "Requirement already satisfied: tqdm>4 in c:\\users\\hp\\anaconda3\\envs\\py3.9\\lib\\site-packages (from openai<2.0.0,>=1.66.3->langchain_openai) (4.67.1)\n",
      "Requirement already satisfied: annotated-types>=0.6.0 in c:\\users\\hp\\anaconda3\\envs\\py3.9\\lib\\site-packages (from pydantic<3.0.0,>=2.5.2->langchain-core) (0.7.0)\n",
      "Requirement already satisfied: pydantic-core==2.27.2 in c:\\users\\hp\\anaconda3\\envs\\py3.9\\lib\\site-packages (from pydantic<3.0.0,>=2.5.2->langchain-core) (2.27.2)\n",
      "Requirement already satisfied: charset-normalizer<4,>=2 in c:\\users\\hp\\anaconda3\\envs\\py3.9\\lib\\site-packages (from requests<3,>=2->langchain_community) (3.4.1)\n",
      "Requirement already satisfied: idna<4,>=2.5 in c:\\users\\hp\\anaconda3\\envs\\py3.9\\lib\\site-packages (from requests<3,>=2->langchain_community) (3.10)\n",
      "Requirement already satisfied: urllib3<3,>=1.21.1 in c:\\users\\hp\\anaconda3\\envs\\py3.9\\lib\\site-packages (from requests<3,>=2->langchain_community) (2.3.0)\n",
      "Requirement already satisfied: certifi>=2017.4.17 in c:\\users\\hp\\anaconda3\\envs\\py3.9\\lib\\site-packages (from requests<3,>=2->langchain_community) (2025.1.31)\n",
      "Requirement already satisfied: greenlet!=0.4.17 in c:\\users\\hp\\anaconda3\\envs\\py3.9\\lib\\site-packages (from SQLAlchemy<3,>=1.4->langchain_community) (3.1.1)\n",
      "Requirement already satisfied: regex>=2022.1.18 in c:\\users\\hp\\anaconda3\\envs\\py3.9\\lib\\site-packages (from tiktoken<1,>=0.7->langchain_openai) (2024.11.6)\n",
      "Requirement already satisfied: exceptiongroup>=1.0.2 in c:\\users\\hp\\anaconda3\\envs\\py3.9\\lib\\site-packages (from anyio<5,>=3.5.0->openai<2.0.0,>=1.66.3->langchain_openai) (1.2.2)\n",
      "Requirement already satisfied: httpcore==1.* in c:\\users\\hp\\anaconda3\\envs\\py3.9\\lib\\site-packages (from httpx>=0.25.2->langgraph-sdk<0.2.0,>=0.1.42->langgraph) (1.0.7)\n",
      "Requirement already satisfied: h11<0.15,>=0.13 in c:\\users\\hp\\anaconda3\\envs\\py3.9\\lib\\site-packages (from httpcore==1.*->httpx>=0.25.2->langgraph-sdk<0.2.0,>=0.1.42->langgraph) (0.14.0)\n",
      "Requirement already satisfied: colorama in c:\\users\\hp\\anaconda3\\envs\\py3.9\\lib\\site-packages (from tqdm>4->openai<2.0.0,>=1.66.3->langchain_openai) (0.4.6)\n",
      "Requirement already satisfied: mypy-extensions>=0.3.0 in c:\\users\\hp\\anaconda3\\envs\\py3.9\\lib\\site-packages (from typing-inspect<1,>=0.4.0->dataclasses-json<0.7,>=0.5.7->langchain_community) (1.0.0)\n",
      "Note: you may need to restart the kernel to use updated packages.\n"
     ]
    }
   ],
   "source": [
    "%pip install dotenv langchain-core langchain_openai langchain_community langgraph pygraphviz"
   ]
  },
  {
   "cell_type": "code",
   "execution_count": 2,
   "metadata": {},
   "outputs": [
    {
     "data": {
      "text/plain": [
       "True"
      ]
     },
     "execution_count": 2,
     "metadata": {},
     "output_type": "execute_result"
    }
   ],
   "source": [
    "from dotenv import load_dotenv\n",
    "\n",
    "load_dotenv()"
   ]
  },
  {
   "cell_type": "code",
   "execution_count": 3,
   "metadata": {},
   "outputs": [],
   "source": [
    "from langgraph.graph import StateGraph, END\n",
    "from typing import TypedDict, Annotated\n",
    "import operator\n",
    "from langchain_core.messages import AnyMessage, SystemMessage, HumanMessage, ToolMessage\n",
    "from langchain_openai import ChatOpenAI\n",
    "from langchain_community.tools.tavily_search import TavilySearchResults"
   ]
  },
  {
   "cell_type": "code",
   "execution_count": 4,
   "metadata": {},
   "outputs": [
    {
     "name": "stdout",
     "output_type": "stream",
     "text": [
      "<class 'langchain_community.tools.tavily_search.tool.TavilySearchResults'>\n",
      "tavily_search_results_json\n"
     ]
    }
   ],
   "source": [
    "tool = TavilySearchResults(max_results=4)\n",
    "print(type(tool))\n",
    "print(tool.name)"
   ]
  },
  {
   "cell_type": "code",
   "execution_count": 5,
   "metadata": {},
   "outputs": [],
   "source": [
    "class AgentState(TypedDict):\n",
    "    messages: Annotated[list[AnyMessage], operator.add]"
   ]
  },
  {
   "cell_type": "code",
   "execution_count": 6,
   "metadata": {},
   "outputs": [],
   "source": [
    "class Agent:\n",
    "    def __init__(self, model, tools, system=\"\"):\n",
    "        self.system = system\n",
    "        graph = StateGraph(AgentState)\n",
    "        graph.add_node(\"llm\", self.call_llm)\n",
    "        graph.add_node(\"action\", self.take_action)\n",
    "        graph.add_conditional_edges(\n",
    "            \"llm\",\n",
    "            self.exists_action,\n",
    "            {True: 'action', False: END}\n",
    "        )\n",
    "        graph.add_edge(\"action\", \"llm\")\n",
    "        graph.set_entry_point(\"llm\")\n",
    "        self.graph = graph.compile()\n",
    "        self.tools = {t.name: t for t in tools}\n",
    "        self.model = model.bind_tools(tools)\n",
    "\n",
    "    def exists_action(self, state: AgentState):\n",
    "        result = state['messages'][-1]\n",
    "        return len(result.tool_calls) > 0\n",
    "\n",
    "    def call_llm(self, state:AgentState):\n",
    "        messages = state['messages']\n",
    "        if self.system:\n",
    "            messages = [SystemMessage(content=self.system)] + messages\n",
    "        message = self.model.invoke(messages)\n",
    "        return {'messages': [message]}\n",
    "    \n",
    "    def take_action(self, state:AgentState):\n",
    "        tool_calls = state['messages'][-1].tool_calls\n",
    "        results = []\n",
    "        for tool in tool_calls:\n",
    "            print(f\"Calling: {tool}\")\n",
    "            if not tool['name'] in self.tools:\n",
    "                print(\"\\n ...bad tool name....\")\n",
    "                result = \"bad tool name, retry\"\n",
    "            else:\n",
    "                result = self.tools[tool['name']].invoke(tool['args'])\n",
    "            results.append(ToolMessage(tool_call_id=tool['id'], name=tool['name'], content=str(result)))\n",
    "        print(\"Back to the model!\")\n",
    "        return {'messages': results}\n"
   ]
  },
  {
   "cell_type": "code",
   "execution_count": 7,
   "metadata": {},
   "outputs": [],
   "source": [
    "prompt = \"\"\"You are a smart research assistant. Use the search engine to look up information. \\\n",
    "You are allowed to make multiple calls (either together or in sequence). \\\n",
    "Only look up information when you are sure of what you want. \\\n",
    "If you need to look up some information before asking a follow up question, you are allowed to do that!\n",
    "\"\"\""
   ]
  },
  {
   "cell_type": "code",
   "execution_count": 12,
   "metadata": {},
   "outputs": [],
   "source": [
    "import os\n",
    "\n",
    "# using groq api\n",
    "open_ai_key = os.getenv('OPEN_API_KEY')\n",
    "open_ai_base_url = \"https://api.groq.com/openai/v1\"\n",
    "model = ChatOpenAI(model = 'llama3-8b-8192', api_key=open_ai_key, base_url=open_ai_base_url)"
   ]
  },
  {
   "cell_type": "code",
   "execution_count": 13,
   "metadata": {},
   "outputs": [],
   "source": [
    "# initiate the agent\n",
    "\n",
    "abot = Agent(model, [tool], system=prompt)"
   ]
  },
  {
   "cell_type": "code",
   "execution_count": 14,
   "metadata": {},
   "outputs": [
    {
     "data": {
      "image/png": "[encoded data removed]",
      "text/plain": [
       "<IPython.core.display.Image object>"
      ]
     },
     "execution_count": 14,
     "metadata": {},
     "output_type": "execute_result"
    }
   ],
   "source": [
    "# visualize the agent\n",
    "\n",
    "from IPython.display import Image\n",
    "\n",
    "Image(abot.graph.get_graph().draw_png())"
   ]
  },
  {
   "cell_type": "code",
   "execution_count": 15,
   "metadata": {},
   "outputs": [
    {
     "name": "stdout",
     "output_type": "stream",
     "text": [
      "Calling: {'name': 'tavily_search_results_json', 'args': {'query': 'Champions Trophy 2025 winners'}, 'id': 'call_kjn3', 'type': 'tool_call'}\n",
      "Back to the model!\n",
      "Calling: {'name': 'tavily_search_results_json', 'args': {'query': 'Who won the Champions Trophy 2025 and how many times did it win before?'}, 'id': 'call_btd7', 'type': 'tool_call'}\n",
      "Back to the model!\n"
     ]
    }
   ],
   "source": [
    "messages = [HumanMessage(content=\"Who won the the Champions Trophy 2025, and how many times did it won before?\")]\n",
    "result = abot.graph.invoke({'messages': messages})"
   ]
  },
  {
   "cell_type": "code",
   "execution_count": 16,
   "metadata": {},
   "outputs": [
    {
     "data": {
      "text/plain": [
       "{'messages': [HumanMessage(content='Who won the the Champions Trophy 2025, and how many times did it won before?', additional_kwargs={}, response_metadata={}),\n",
       "  AIMessage(content='', additional_kwargs={'tool_calls': [{'id': 'call_kjn3', 'function': {'arguments': '{\"query\":\"Champions Trophy 2025 winners\"}', 'name': 'tavily_search_results_json'}, 'type': 'function'}], 'refusal': None}, response_metadata={'token_usage': {'completion_tokens': 83, 'prompt_tokens': 1026, 'total_tokens': 1109, 'completion_tokens_details': None, 'prompt_tokens_details': None, 'queue_time': 0.048322504000000016, 'prompt_time': 0.151044185, 'completion_time': 0.069166667, 'total_time': 0.220210852}, 'model_name': 'llama3-8b-8192', 'system_fingerprint': 'fp_179b0f92c9', 'id': 'chatcmpl-cbe6df85-5def-4c8a-b6e4-79ef49de0b36', 'finish_reason': 'tool_calls', 'logprobs': None}, id='run-9a7dbcb1-f51e-443b-9482-fe9a920f7ea2-0', tool_calls=[{'name': 'tavily_search_results_json', 'args': {'query': 'Champions Trophy 2025 winners'}, 'id': 'call_kjn3', 'type': 'tool_call'}], usage_metadata={'input_tokens': 1026, 'output_tokens': 83, 'total_tokens': 1109, 'input_token_details': {}, 'output_token_details': {}}),\n",
       "  ToolMessage(content=\"[{'title': 'ICC Champions Trophy Winners List (1998-2025) Captain-Wise', 'url': 'https://currentaffairs.adda247.com/icc-champions-trophy-winners-list/', 'content': 'Here’s the complete list of Champions Trophy winners from 1998 to 2025. The 2025 winner is India, with the tournament taking place in Pakistan and the UAE.\\\\nYearWinnerCaptain1998South AfricaHansie Cronje2000New ZealandStephen Fleming2002Sri Lanka and IndiaSourav Ganguly/Sanath Jayasuriya2004West IndiesBrian Lara2006AustraliaRicky Ponting2009AustraliaRicky Ponting2013IndiaMS Dhoni2017PakistanSarfaraz Ahmed2025IndiaRohit Sharma\\\\nChampions Trophy Winners List (1998-2025) [...] Here’s the complete list of Champions Trophy host nations and winners from 1998 to 2025. The upcoming 2025 edition will be hosted by Pakistan and the UAE, with the winner yet to be decided.\\\\nYearHost Nation(s)Winner(s)1998BangladeshSouth Africa2000KenyaNew Zealand2002Sri LankaIndia and Sri Lanka2004EnglandWest Indies2006IndiaAustralia2009South AfricaAustralia2013England and WalesIndia2017England and WalesPakistan2025Pakistan and United Arab EmiratesIndia\\\\nLast Champions Trophy Winner [...] FAQs\\\\nWhich teams have qualified for the ICC Champions Trophy 2025?\\\\nAfter the 2023 World Cup, the following teams have secured their spots in the 2025 ICC Champions Trophy:\\\\nIndia\\\\nSouth Africa\\\\nAustralia\\\\nNew Zealand\\\\nPakistan (Host nation)\\\\nAfghanistan (6th place in 2023 World Cup)\\\\nWhy is Pakistan hosting the 2025 Champions Trophy?', 'score': 0.9044155947619048}, {'title': 'Champions Trophy Winners List: How many times have India won ...', 'url': 'https://timesofindia.indiatimes.com/sports/cricket/icc-champions-trophy-2025/where-india-stand-on-the-list-of-champions-trophy-winners-since-1998/articleshow/118820329.cms', 'content': 'Michael Vaughan\\\\nICC Champions Trophy Statement\\\\nChampions Trophy Winner List\\\\nIPL 2025\\\\nInzamam Ul Haq\\\\nShreyas Iyer\\\\nList of Champions Trophy winners: How many titles have India won?\\\\nTOI Sports Desk / TIMESOFINDIA.COM / Updated: Mar 11, 2025, 10:13 IST\\\\nShare [...] Who won the Champions Trophy 2025\\\\nWith this triumph, India have now surpassed Australia in the elite list of multi-time winners, having previously won the title in 2002 (shared with Sri Lanka) and 2013 (defeated England in the final).\\\\nGo Beyond The Boundary with our YouTube channel. SUBSCRIBE NOW! \\\\nThe victory also marks redemption after their runner-up finish in 2017 and adds another prestigious ICC trophy to their collection. [...] Trending\\\\nRohit Sharma Welcome Celebration\\\\nWasim Akram\\\\nRohit Sharma Celebration\\\\nRohit Sharma\\\\nMichael Vaughan\\\\nICC Champions Trophy Statement\\\\nChampions Trophy Winner List\\\\nIPL 2025\\\\nInzamam Ul Haq\\\\nShreyas Iyer\\\\nRohit Sharma Welcome Celebration\\\\nWasim Akram\\\\nRohit Sharma Celebration\\\\nRohit Sharma\\\\nMichael Vaughan\\\\nICC Champions Trophy Statement\\\\nChampions Trophy Winner List\\\\nIPL 2025\\\\nInzamam Ul Haq\\\\nShreyas Iyer\\\\nRohit Sharma Welcome Celebration\\\\nWasim Akram\\\\nRohit Sharma Celebration\\\\nRohit Sharma', 'score': 0.8606047563095238}, {'title': 'Champions Trophy 2025: Full list of ICC titles won by India since ...', 'url': 'https://sportstar.thehindu.com/cricket/champions-trophy/india-full-list-of-icc-title-wins-results-by-year-champions-trophy-2025-final-ind-vs-new-zealand/article69310944.ece', 'content': 'India‘s players celebrate with the\\\\xa0trophy\\\\xa0after winning the ICC\\\\xa0Champions\\\\xa0Trophy. | Photo Credit: AFP\\\\nIndia clinched its seventh ICC title win after beating New Zealand in the final of Champions Trophy 2025 in Dubai on Sunday.\\\\nThe Men in Blue won their third ICC Champions Trophy title, and went past Australia’s tally of two. This was India’s second consecutive ICC title win - it had won the T20 World Cup crown in June last year. [...] ICC Champions Trophy 2025 final: Rohit Sharma says coaches backed him to adapt aggressive approach in PowerPlay\\\\nTeam Sportstar\\\\n\\\\n\\\\nChampions Trophy 2025: Rachin Ravindra wins Player of the Tournament award\\\\nTeam Sportstar\\\\n\\\\n\\\\nREAD MORE STORIES\\\\nLatest on Sportstar\\\\n\\\\n\\\\nLive Blog 2025-03-09T22:04:46+05:30\\\\nIndia wins ICC Champions Trophy LIVE reactions: PM Modi wishes Men in Blue for third title\\\\nTeam Sportstar', 'score': 0.8537231177619047}, {'title': 'ICC Champions Trophy - Wikipedia', 'url': 'https://en.wikipedia.org/wiki/ICC_Champions_Trophy', 'content': 'So far, a total of fourteen teams have competed in the nine editions of the tournament. India (2002,2013,2025) is the most successful team with three titles, Australia (2006,2009) has won it twice while South Africa (1998), New Zealand (2000), Sri Lanka (2002), West Indies (2004) and Pakistan (2017) have won it once each. The 2002 edition was shared between India and Sri Lanka after the final ended in a no-result due to rain.\\\\nIndia are the current champions after winning the 2025 edition.', 'score': 0.8532151659999999}]\", name='tavily_search_results_json', tool_call_id='call_kjn3'),\n",
       "  AIMessage(content='', additional_kwargs={'tool_calls': [{'id': 'call_btd7', 'function': {'arguments': '{\"query\":\"Who won the Champions Trophy 2025 and how many times did it win before?\"}', 'name': 'tavily_search_results_json'}, 'type': 'function'}], 'refusal': None}, response_metadata={'token_usage': {'completion_tokens': 109, 'prompt_tokens': 2358, 'total_tokens': 2467, 'completion_tokens_details': None, 'prompt_tokens_details': None, 'queue_time': 0.025539198999999957, 'prompt_time': 0.293271504, 'completion_time': 0.090833333, 'total_time': 0.384104837}, 'model_name': 'llama3-8b-8192', 'system_fingerprint': 'fp_179b0f92c9', 'id': 'chatcmpl-e6a42b43-3d31-404f-857c-6582daae5449', 'finish_reason': 'tool_calls', 'logprobs': None}, id='run-8f3e9f3c-0be6-41cc-9da6-b44147ef0e0d-0', tool_calls=[{'name': 'tavily_search_results_json', 'args': {'query': 'Who won the Champions Trophy 2025 and how many times did it win before?'}, 'id': 'call_btd7', 'type': 'tool_call'}], usage_metadata={'input_tokens': 2358, 'output_tokens': 109, 'total_tokens': 2467, 'input_token_details': {}, 'output_token_details': {}}),\n",
       "  ToolMessage(content='[{\\'title\\': \\'ICC Champions Trophy - Wikipedia\\', \\'url\\': \\'https://en.wikipedia.org/wiki/ICC_Champions_Trophy\\', \\'content\\': \"So far, a total of fourteen teams have competed in the nine editions of the tournament. India (2002,2013,2025) is the most successful team with three titles, Australia (2006,2009) has won it twice while South Africa (1998), New Zealand (2000), Sri Lanka (2002), West Indies (2004) and Pakistan (2017) have won it once each. The 2002 edition was shared between India and Sri Lanka after the final ended in a no-result due to rain.\\\\nIndia are the current champions after winning the 2025 edition. [...] ICC Champions TrophyAdministratorInternational Cricket CouncilFormatOne Day InternationalFirst edition1998 BangladeshLatest edition2025 PakistanNext edition2029 IndiaTournament formatGroup stage and knockoutCurrent champion\\\\xa0India (3rd title)Most successful\\\\xa0India (3 titles)Most runs Chris Gayle (791)[1]Most wickets Kyle Mills (28)[2]Websiteicc-cricket.com\\\\n| Tournaments |\\\\n| --- |\\\\n| \\\\n*   1998\\\\n*   2000\\\\n*   2002\\\\n*   2004\\\\n*   2006\\\\n*   2009\\\\n*   2013\\\\n*   2017\\\\n*   2025\\\\n| [...] Overview\\\\nMen\\'s Champions Trophy winnersYearChampions1998\\\\xa0South Africa2000\\\\xa0New Zealand2002\\\\xa0India &\\\\xa0Sri Lanka2004\\\\xa0West Indies2006\\\\xa0Australia2009\\\\xa0Australia\\\\xa0(2)2013\\\\xa0India\\\\xa0(2)2017\\\\xa0Pakistan2025\\\\xa0India\\\\xa0(3)\", \\'score\\': 0.7587830719895288}, {\\'title\\': \\'Champions Trophy Winners List: How many times have India won ...\\', \\'url\\': \\'https://timesofindia.indiatimes.com/sports/cricket/icc-champions-trophy-2025/where-india-stand-on-the-list-of-champions-trophy-winners-since-1998/articleshow/118820329.cms\\', \\'content\\': \\'Who won the Champions Trophy 2025\\\\nWith this triumph, India have now surpassed Australia in the elite list of multi-time winners, having previously won the title in 2002 (shared with Sri Lanka) and 2013 (defeated England in the final).\\\\nGo Beyond The Boundary with our YouTube channel. SUBSCRIBE NOW! \\\\nThe victory also marks redemption after their runner-up finish in 2017 and adds another prestigious ICC trophy to their collection. [...] Michael Vaughan\\\\nICC Champions Trophy Statement\\\\nChampions Trophy Winner List\\\\nIPL 2025\\\\nInzamam Ul Haq\\\\nShreyas Iyer\\\\nList of Champions Trophy winners: How many titles have India won?\\\\nTOI Sports Desk / TIMESOFINDIA.COM / Updated: Mar 11, 2025, 10:13 IST\\\\nShare [...] Trending\\\\nRohit Sharma Welcome Celebration\\\\nWasim Akram\\\\nRohit Sharma Celebration\\\\nRohit Sharma\\\\nMichael Vaughan\\\\nICC Champions Trophy Statement\\\\nChampions Trophy Winner List\\\\nIPL 2025\\\\nInzamam Ul Haq\\\\nShreyas Iyer\\\\nRohit Sharma Welcome Celebration\\\\nWasim Akram\\\\nRohit Sharma Celebration\\\\nRohit Sharma\\\\nMichael Vaughan\\\\nICC Champions Trophy Statement\\\\nChampions Trophy Winner List\\\\nIPL 2025\\\\nInzamam Ul Haq\\\\nShreyas Iyer\\\\nRohit Sharma Welcome Celebration\\\\nWasim Akram\\\\nRohit Sharma Celebration\\\\nRohit Sharma\\', \\'score\\': 0.7549410965619546}, {\\'title\\': \\'Champions Trophy winners list: Know them all - Olympics.com\\', \\'url\\': \\'https://www.olympics.com/en/news/icc-champions-trophy-winners-list\\', \\'content\\': \\'ICC Champions Trophy winners: India most successful team in the tournament - full list of champions\\\\nIndia shared the trophy with Sri Lanka in 2002 and were the outright champions in 2013 and 2025. Australia won the title twice.\\\\n2 minBy Andre Pitts\\\\nCricket\\\\n\\\\n(Getty Images) [...] The Men in Blue’s first Champions Trophy triumph came as joint-winners with Sri Lanka in 2002 after rain played spoilsport and washed out the final on successive days. Reigning champions India went on to win the title outright in 2013 and 2025 after beating England and New Zealand in the finals, respectively.\\\\nMeanwhile, Australia, who won the title in 2006 and 2009, are the only team to have successfully defended the Champions Trophy title to date.\\', \\'score\\': 0.7249162205759163}, {\\'title\\': \\'ICC Champions Trophy Winners List 1998 - 2025   - Jagran Josh\\', \\'url\\': \\'https://www.jagranjosh.com/general-knowledge/icc-champions-trophy-winners-list-1739452299-1\\', \\'content\\': \\'Most Runs in ICC Champions Trophy 2025: Highest Run-Scorers List\\\\nICC Championship Trophy: Interesting Facts\\\\n1. India became the only team to win the Champions Trophy three times in 2002, 2013, and 2025. Australia won the ICC Championship Trophy two times, in 2006 and 2009.\\\\n2. Rain prevented the final from taking place in 2002, leaving India and Sri Lanka as the joint winners. [...] YearWinner(s)Runner-UpHosted By1998South AfricaWest IndiesBangladesh2000New ZealandIndiaKenya2002Sri Lanka and India-Sri Lanka2004West IndiesEnglandEngland2006AustraliaWest IndiesIndia2009AustraliaNew ZealandSouth Africa2013IndiaEnglandEngland and Wales2017PakistanIndiaEngland and Wales2025IndiaNew ZealandPakistan\\\\nSource: ESPNcricinfo\\\\nCheck Out\\\\nTop 10 Highest Totals in ICC Championship Trophy\\\\nICC Champions Trophy 2025 Points Table, Check Net Rate [...] 6. India has now qualified for three successive Champions Trophy finals (2013, 2017, 2025) and 5 overall (2000, 2002, 2013, 2017, 2025).\\\\nAlso Read\\\\nList of Fastest Centuries in T20 International Cricket\\\\nHighest T20 Score: List of Top 10 Highest T20 International Scores\\\\nTop 10 Wicket Keepers in World Cricket: Check the Full List Here\\\\nAbout the Author\\', \\'score\\': 0.6933387388307155}]', name='tavily_search_results_json', tool_call_id='call_btd7'),\n",
       "  AIMessage(content='India won the Champions Trophy 2025 and has won the tournament three times before, in 2002 (shared with Sri Lanka) and 2013 (defeated England in the final).', additional_kwargs={'refusal': None}, response_metadata={'token_usage': {'completion_tokens': 40, 'prompt_tokens': 3839, 'total_tokens': 3879, 'completion_tokens_details': None, 'prompt_tokens_details': None, 'queue_time': 0.041282985999999966, 'prompt_time': 0.480986011, 'completion_time': 0.033333333, 'total_time': 0.514319344}, 'model_name': 'llama3-8b-8192', 'system_fingerprint': 'fp_179b0f92c9', 'id': 'chatcmpl-2a2e6ad0-0c5c-4eca-9ebe-26151597ab8e', 'finish_reason': 'stop', 'logprobs': None}, id='run-3825514a-62ff-41a6-ad73-3e5f962af8ec-0', usage_metadata={'input_tokens': 3839, 'output_tokens': 40, 'total_tokens': 3879, 'input_token_details': {}, 'output_token_details': {}})]}"
      ]
     },
     "execution_count": 16,
     "metadata": {},
     "output_type": "execute_result"
    }
   ],
   "source": [
    "result"
   ]
  },
  {
   "cell_type": "code",
   "execution_count": 17,
   "metadata": {},
   "outputs": [
    {
     "data": {
      "text/plain": [
       "'India won the Champions Trophy 2025 and has won the tournament three times before, in 2002 (shared with Sri Lanka) and 2013 (defeated England in the final).'"
      ]
     },
     "execution_count": 17,
     "metadata": {},
     "output_type": "execute_result"
    }
   ],
   "source": [
    "result['messages'][-1].content"
   ]
  }
 ],
 "metadata": {
  "kernelspec": {
   "display_name": "py3.9",
   "language": "python",
   "name": "python3"
  },
  "language_info": {
   "codemirror_mode": {
    "name": "ipython",
    "version": 3
   },
   "file_extension": ".py",
   "mimetype": "text/x-python",
   "name": "python",
   "nbconvert_exporter": "python",
   "pygments_lexer": "ipython3",
   "version": "3.9.21"
  }
 },
 "nbformat": 4,
 "nbformat_minor": 2
}
